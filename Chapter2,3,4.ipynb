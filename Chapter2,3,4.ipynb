{
  "nbformat": 4,
  "nbformat_minor": 0,
  "metadata": {
    "colab": {
      "name": "Chapter2,3,4.ipynb",
      "private_outputs": true,
      "provenance": [],
      "authorship_tag": "ABX9TyOF+QaUXdmG6mU1iOuvDVHf",
      "include_colab_link": true
    },
    "kernelspec": {
      "name": "python3",
      "display_name": "Python 3"
    },
    "language_info": {
      "name": "python"
    }
  },
  "cells": [
    {
      "cell_type": "markdown",
      "metadata": {
        "id": "view-in-github",
        "colab_type": "text"
      },
      "source": [
        "<a href=\"https://colab.research.google.com/github/J-Yebin/J-Yebin/blob/main/Chapter2%2C3%2C4.ipynb\" target=\"_parent\"><img src=\"https://colab.research.google.com/assets/colab-badge.svg\" alt=\"Open In Colab\"/></a>"
      ]
    },
    {
      "cell_type": "code",
      "metadata": {
        "id": "neq_r41GjTPy"
      },
      "source": [
        "print(7/2)\n",
        "print(7//2)\n",
        "print(7%2)"
      ],
      "execution_count": null,
      "outputs": []
    },
    {
      "cell_type": "code",
      "metadata": {
        "id": "yov3Aiizj1NI"
      },
      "source": [
        "a = 1\n",
        "b = a + 1\n",
        "print(b)\n",
        "b += 1\n",
        "print(b)\n"
      ],
      "execution_count": null,
      "outputs": []
    },
    {
      "cell_type": "code",
      "metadata": {
        "id": "MbEVpFvTk3f3"
      },
      "source": [
        "a = 65\n",
        "b = 77\n",
        "a = str(a)\n",
        "b = str(b)\n",
        "print(a,b)\n",
        "print(a+b)"
      ],
      "execution_count": null,
      "outputs": []
    },
    {
      "cell_type": "code",
      "metadata": {
        "id": "mYq7YuxSlDt3"
      },
      "source": [
        "type(a)"
      ],
      "execution_count": null,
      "outputs": []
    },
    {
      "cell_type": "code",
      "metadata": {
        "id": "_AsjXWEjlavf"
      },
      "source": [
        "a = 777\n",
        "b = 777\n",
        "print(a==b, a is b)"
      ],
      "execution_count": null,
      "outputs": []
    },
    {
      "cell_type": "code",
      "metadata": {
        "id": "zQYpYnV1llDV"
      },
      "source": [
        "del(a)\n",
        "print(a)"
      ],
      "execution_count": null,
      "outputs": []
    },
    {
      "cell_type": "code",
      "metadata": {
        "id": "cmcGYI98mN9A"
      },
      "source": [
        "a = '20'\n",
        "b = '4 '\n",
        "print(type(float(a/b)))"
      ],
      "execution_count": null,
      "outputs": []
    },
    {
      "cell_type": "code",
      "metadata": {
        "id": "WvJrQBw0nH7f"
      },
      "source": [
        "print(\"Enter your name:\")\n",
        "somebody = input()\n",
        "print(\"Hi\",somebody, \"How are you today?\")"
      ],
      "execution_count": null,
      "outputs": []
    },
    {
      "cell_type": "code",
      "metadata": {
        "id": "9Iy-QeEunyvl"
      },
      "source": [
        "temperature = float(input(\"온도를 입력하세요:\"))\n",
        "print(temperature)"
      ],
      "execution_count": null,
      "outputs": []
    },
    {
      "cell_type": "code",
      "metadata": {
        "id": "VxnZjfpGoXhe"
      },
      "source": [
        "print(\"본 프로그램은 섭씨온도를 화씨온도로 변환하는 프로그램입니다.\")\n",
        "print(\"변환하고 싶은 섭씨온도를 입력하세요.\")\n",
        "cel = float(input(\"\"))\n",
        "print(\"섭씨온도:\", cel)\n",
        "print(\"화씨온도:\", round((cel*1.8)+32, 2))"
      ],
      "execution_count": null,
      "outputs": []
    },
    {
      "cell_type": "code",
      "metadata": {
        "id": "Qs0MCE4BrHL5"
      },
      "source": [
        "colors = [\"red\",\"blue\", 'black','pick','white']\n",
        "print(colors[0])\n",
        "print(colors[1])\n",
        "print(colors[0:2])\n",
        "print(colors[-1])\n",
        "print(colors[-3:-2])\n",
        "print(colors[-3:])\n",
        "print(colors[-3:-1])\n",
        "print(colors[-3:3])\n",
        "print(colors[::2])\n",
        "print(colors[::-2])\n",
        "print(colors*2)\n",
        "sites =['서울','부산', '대구']\n",
        "print(colors+sites)\n",
        "# print(colors*sites) - 안됨"
      ],
      "execution_count": null,
      "outputs": []
    },
    {
      "cell_type": "code",
      "metadata": {
        "id": "z7O64sq3uE1F"
      },
      "source": [
        "'blue' in colors\n",
        "'purple' in colors"
      ],
      "execution_count": null,
      "outputs": []
    },
    {
      "cell_type": "code",
      "metadata": {
        "id": "9nCpCcQCwIcF"
      },
      "source": [
        "colors.append('purple')\n",
        "print(colors)"
      ],
      "execution_count": null,
      "outputs": []
    },
    {
      "cell_type": "code",
      "metadata": {
        "id": "fQitNguBwZoI"
      },
      "source": [
        "colors.insert(2, 'orange')\n",
        "print(colors)"
      ],
      "execution_count": null,
      "outputs": []
    },
    {
      "cell_type": "code",
      "metadata": {
        "id": "JqHX3tyZwkGo"
      },
      "source": [
        "colors.remove('red')\n",
        "colors"
      ],
      "execution_count": null,
      "outputs": []
    },
    {
      "cell_type": "code",
      "metadata": {
        "id": "ILo4EafMwynl"
      },
      "source": [
        "colors[0]:'red'\n",
        "colors\n",
        "colors[0]:'red'\n",
        "colors\n",
        "del colors[0]\n",
        "colors"
      ],
      "execution_count": null,
      "outputs": []
    },
    {
      "cell_type": "code",
      "metadata": {
        "id": "BcXS8YxCxyav"
      },
      "source": [
        "a = ['101','102','103']\n",
        "b = ['201','202','203']\n",
        "c = ['301','302','303']\n",
        "buliding = [a,b,c]\n",
        "buliding\n",
        "print(buliding[1][1])"
      ],
      "execution_count": null,
      "outputs": []
    },
    {
      "cell_type": "code",
      "metadata": {
        "id": "zYt54959ysy9"
      },
      "source": [
        "a = 256\n",
        "b = 256\n",
        "a == b\n",
        "a is b"
      ],
      "execution_count": null,
      "outputs": []
    },
    {
      "cell_type": "code",
      "metadata": {
        "id": "B0vPCFNpy2wV"
      },
      "source": [
        "a = 257\n",
        "b = 257\n",
        "a is b "
      ],
      "execution_count": null,
      "outputs": []
    },
    {
      "cell_type": "code",
      "metadata": {
        "id": "4ei_pnTu0KD5"
      },
      "source": [
        "print(\"나이를 말해주세요:\")\n",
        "myage = int(input())\n",
        "if myage >= 20:\n",
        "    print(\"통과하세요.\")\n",
        "else:\n",
        "    print(\"미성년자는 입장할 수 없습니다.\")"
      ],
      "execution_count": null,
      "outputs": []
    },
    {
      "cell_type": "code",
      "metadata": {
        "id": "noCaA5cX0-bJ"
      },
      "source": [
        "if 1:\n",
        "    print(\"True\")\n",
        "else:\n",
        "    print(\"False\")"
      ],
      "execution_count": null,
      "outputs": []
    },
    {
      "cell_type": "code",
      "metadata": {
        "id": "G66UIj871I39"
      },
      "source": [
        "(3>5)<10"
      ],
      "execution_count": null,
      "outputs": []
    },
    {
      "cell_type": "code",
      "metadata": {
        "id": "NWy7hNs51bXO"
      },
      "source": [
        "score = int(input(\"점수를 입력하세요:\"))\n",
        "if score >= 90: print(\"A\")\n",
        "elif score >=80: print(\"B\")\n",
        "else:print(\"C\") "
      ],
      "execution_count": null,
      "outputs": []
    },
    {
      "cell_type": "code",
      "metadata": {
        "id": "hnh2ZxQY2Nkg"
      },
      "source": [
        "score = int(input(\"점수를 입력하세요:\"))\n",
        "if score >= 90: Grade = 'A'\n",
        "elif score >=80: Grade = 'B'\n",
        "else: Grade = 'C'\n",
        "print(Grade)"
      ],
      "execution_count": null,
      "outputs": []
    },
    {
      "cell_type": "code",
      "metadata": {
        "id": "1Ba-ZWXt2pM6"
      },
      "source": [
        "birthyear = int(input(\"태어난 년도를 입력하세요:\"))\n",
        "age = (2021 - birthyear + 1)\n",
        "if age <= 26 and age>=20: grade = \"대학생\"\n",
        "elif age <20 and age>=17: grade = \"고등학생\"\n",
        "elif age <17 and age>=14: grade = '중학생'\n",
        "elif age <14 and age>=8 : grade = '초등학생'\n",
        "else : grade = \"학생이 아닙니다.\"\n",
        "print(grade)"
      ],
      "execution_count": null,
      "outputs": []
    },
    {
      "cell_type": "code",
      "metadata": {
        "id": "4y9JYt9X4cq_"
      },
      "source": [
        "birthyear = int(input(\"태어난 년도를 입력하세요:\"))\n",
        "age = (2021 - birthyear + 1)\n",
        "print(age)"
      ],
      "execution_count": null,
      "outputs": []
    },
    {
      "cell_type": "code",
      "metadata": {
        "id": "FqmE8u_E5bee"
      },
      "source": [
        "for a in [\"a\",\"b\",'c','d','e']:\n",
        "    print(\"hello\")\n",
        "    print(a)"
      ],
      "execution_count": null,
      "outputs": []
    },
    {
      "cell_type": "code",
      "metadata": {
        "id": "UkdyvYHA5v7W"
      },
      "source": [
        "for a in range(8,2,-1):\n",
        "    print(a)"
      ],
      "execution_count": null,
      "outputs": []
    },
    {
      "cell_type": "code",
      "metadata": {
        "id": "Wjt5i-wa6hWC"
      },
      "source": [
        "i = 1\n",
        "while i <= 10:\n",
        "    print(i)\n",
        "    i += 2"
      ],
      "execution_count": null,
      "outputs": []
    },
    {
      "cell_type": "code",
      "metadata": {
        "id": "CLVOw-iV8KUT"
      },
      "source": [
        "x = 1\n",
        "y =2\n",
        "print(x+y)"
      ],
      "execution_count": null,
      "outputs": []
    },
    {
      "cell_type": "code",
      "metadata": {
        "id": "0Dz16M0O8bdI"
      },
      "source": [
        "\n",
        "korea = \"ace\"\n",
        "print(Korean)"
      ],
      "execution_count": null,
      "outputs": []
    },
    {
      "cell_type": "code",
      "metadata": {
        "id": "5b4qS4Xr83ca"
      },
      "source": [
        "def addition(x,y):\n",
        "    return x + y\n",
        "\n",
        "def multiplication(x,y):\n",
        "    return x * y\n",
        "\n",
        "def divided_by_2(x):\n",
        "    return x/2\n",
        "\n",
        "if __name__ == '__main__':\n",
        "    print(addition(10,5))\n",
        "    print(multiplication(10,5))\n",
        "    print(divided_by_2(50))"
      ],
      "execution_count": null,
      "outputs": []
    },
    {
      "cell_type": "code",
      "metadata": {
        "id": "_XPOJOy4-jSc"
      },
      "source": [
        "gugu = int(input(\"구구단 몇 단을 계산할까?\"))\n",
        "print(\"구구단\", gugu,\"단을 계산한다.\")\n",
        "for i in range(1,10):\n",
        "    print(gugu, \"x\", i, \"=\", i*gugu)"
      ],
      "execution_count": null,
      "outputs": []
    },
    {
      "cell_type": "code",
      "metadata": {
        "id": "1_CP-jxrA26U"
      },
      "source": [
        "sentence = \"I love you\"\n",
        "reverse_sentence = ''\n",
        "for char in sentence:\n",
        "    reverse_sentence = char + reverse_sentence\n",
        "print(reverse_sentence)"
      ],
      "execution_count": null,
      "outputs": []
    },
    {
      "cell_type": "code",
      "metadata": {
        "id": "9UMIxOo2T-1r"
      },
      "source": [
        "sentence = \"I love you\"\n",
        "reverse_sentence = ''\n",
        "for char in sentence:\n",
        "    reverse_sentence = char + reverse_sentence\n",
        "print(reverse_sentence)"
      ],
      "execution_count": null,
      "outputs": []
    },
    {
      "cell_type": "code",
      "metadata": {
        "id": "ovewwfsYTmm4"
      },
      "source": [
        "decimal = 10\n",
        "result = ' '\n",
        "while (decimal > 0):\n",
        "    remainder = decimal % 2\n",
        "    decimal = decimal // 2\n",
        "    result = str(remainder) + result\n",
        "print(result)"
      ],
      "execution_count": null,
      "outputs": []
    },
    {
      "cell_type": "code",
      "metadata": {
        "id": "VM3pb2HyUjqj"
      },
      "source": [
        "import random\n",
        "guess_number = random.randint(1,100)\n",
        "print(\"숫자를 맞혀 보세요. (1~100)\")\n",
        "user_input = int(input())\n",
        "while (user_input is not guess_number):\n",
        "    if user_input > guess_number:\n",
        "        print(\"숫자가 너무 큽니다.\")\n",
        "    else :\n",
        "        print(\"숫자가 너무 작습니다.\")\n",
        "    user_input = int(input())\n",
        "else:\n",
        "    print(\"정답입니다.\", \"입력한 숫자는\",user_input, \"입니다.\")"
      ],
      "execution_count": null,
      "outputs": []
    },
    {
      "cell_type": "code",
      "metadata": {
        "id": "mu4-gPbHXqVM"
      },
      "source": [
        "print(\"구구단 몇 단을 계산할까요(1~9)?\")\n",
        "gugu = int(input())\n",
        "\n",
        "while gugu != 0:\n",
        "    print(\"구구단\", gugu, \"단을 계산합니다.\")\n",
        "    for i in range(1,10):\n",
        "        print(gugu, \"x\", i, \"=\", i * gugu)\n",
        "    print(\"구구단 몇 단을 계산할까요(1~9)?\")\n",
        "    gugu = int(input())\n",
        "else:\n",
        "    print(\"구구단 게임을 종료합니다.\")"
      ],
      "execution_count": null,
      "outputs": []
    },
    {
      "cell_type": "code",
      "metadata": {
        "id": "aHTThkdqZ8qb"
      },
      "source": [
        "kor_score = [49,80,20,100,80]\n",
        "math_score = [43,60,85,30,90]\n",
        "eng_score = [49,82,48,50,100]\n",
        "midterm_score = [kor_score, math_score, eng_score]\n",
        "\n",
        "student_score = [0,0,0,0,0]\n",
        "i = 0\n",
        "for subject in midterm_score:\n",
        "    for score in subject:\n",
        "        student_score[i] += score\n",
        "        i += 1\n",
        "    i = 0\n",
        "else:\n",
        "    a,b,c,d,e = student_score\n",
        "    student_average = [a/3,b/3,c/3,d/3,e/3]\n",
        "    print(student_average)"
      ],
      "execution_count": null,
      "outputs": []
    }
  ]
}